{
 "cells": [
  {
   "cell_type": "code",
   "execution_count": 11,
   "metadata": {
    "ExecuteTime": {
     "end_time": "2020-02-16T01:49:53.461322Z",
     "start_time": "2020-02-16T01:49:53.448328Z"
    }
   },
   "outputs": [],
   "source": [
    "a = [2, 5, 7, 8]\n",
    "b = [3, 4, 5, 9, 12]"
   ]
  },
  {
   "cell_type": "code",
   "execution_count": 12,
   "metadata": {
    "ExecuteTime": {
     "end_time": "2020-02-16T01:49:53.807380Z",
     "start_time": "2020-02-16T01:49:53.788339Z"
    }
   },
   "outputs": [],
   "source": [
    "def merge_sorted_lists(a, b):\n",
    "    m = []\n",
    "    while len(a) > 0 and len(b) > 0:\n",
    "        if a[0] <= b[0]:\n",
    "            m.append(a[0])\n",
    "            a = a[1:]\n",
    "        else:\n",
    "            m.append(b[0])\n",
    "            b = b[1:]\n",
    "    if len(a) > 0:\n",
    "        m += a\n",
    "    elif len(b) > 0:\n",
    "        m += b\n",
    "    return m"
   ]
  },
  {
   "cell_type": "code",
   "execution_count": 13,
   "metadata": {
    "ExecuteTime": {
     "end_time": "2020-02-16T01:49:54.379453Z",
     "start_time": "2020-02-16T01:49:54.361454Z"
    }
   },
   "outputs": [
    {
     "name": "stdout",
     "output_type": "stream",
     "text": [
      "[2, 3, 4, 5, 5, 7, 8, 9, 12]\n"
     ]
    }
   ],
   "source": [
    "m = merge_sorted_lists(a, b)\n",
    "print(m)"
   ]
  },
  {
   "cell_type": "code",
   "execution_count": null,
   "metadata": {
    "ExecuteTime": {
     "start_time": "2020-02-16T02:39:40.021Z"
    }
   },
   "outputs": [],
   "source": [
    "import random"
   ]
  },
  {
   "cell_type": "code",
   "execution_count": null,
   "metadata": {
    "ExecuteTime": {
     "start_time": "2020-02-16T02:39:40.363Z"
    }
   },
   "outputs": [],
   "source": [
    "a = [random.randint(1, 100) for _ in range(10)]\n",
    "b = [random.randint(1, 100) for _ in range(20)]\n",
    "a = sorted(a)\n",
    "b = sorted(b)\n",
    "print(a)\n",
    "print(b)"
   ]
  },
  {
   "cell_type": "code",
   "execution_count": null,
   "metadata": {
    "ExecuteTime": {
     "start_time": "2020-02-16T02:39:40.812Z"
    }
   },
   "outputs": [],
   "source": [
    "m = merge_sorted_lists(a, b)\n",
    "print(m)"
   ]
  },
  {
   "cell_type": "code",
   "execution_count": 17,
   "metadata": {
    "ExecuteTime": {
     "end_time": "2020-02-16T01:49:56.583490Z",
     "start_time": "2020-02-16T01:49:56.566458Z"
    }
   },
   "outputs": [
    {
     "name": "stdout",
     "output_type": "stream",
     "text": [
      "[6, 8, 14, 16, 21, 22, 24, 31, 38, 44, 46, 51, 58, 61, 67, 68, 69, 76, 79, 92, 98, 100]\n"
     ]
    }
   ],
   "source": [
    "c = list(set(a + b))\n",
    "c = sorted(c)\n",
    "print(c)"
   ]
  },
  {
   "cell_type": "markdown",
   "metadata": {},
   "source": [
    "# ListNode"
   ]
  },
  {
   "cell_type": "code",
   "execution_count": 155,
   "metadata": {
    "ExecuteTime": {
     "end_time": "2020-02-16T02:29:47.604119Z",
     "start_time": "2020-02-16T02:29:47.587092Z"
    }
   },
   "outputs": [],
   "source": [
    "# Definition for singly-linked list.\n",
    "class ListNode:\n",
    "    def __init__(self, x):\n",
    "        self.val = x\n",
    "        self.next = None\n",
    "\n",
    "def mergeTwoLists(l1, l2):\n",
    "        p = l1\n",
    "        q = l2\n",
    "        m = ListNode(None)\n",
    "        s = m\n",
    "        while p and q:\n",
    "            if p.val <= q.val:\n",
    "                s.next = p\n",
    "                p = p.next\n",
    "            else:\n",
    "                s.next = q\n",
    "                q = q.next\n",
    "            s = s.next\n",
    "        if p:\n",
    "            s.next = p\n",
    "        elif q:\n",
    "            s.next = q\n",
    "        return m.next"
   ]
  },
  {
   "cell_type": "code",
   "execution_count": 157,
   "metadata": {
    "ExecuteTime": {
     "end_time": "2020-02-16T02:29:47.949734Z",
     "start_time": "2020-02-16T02:29:47.930744Z"
    }
   },
   "outputs": [],
   "source": [
    "l1 = ListNode(1)\n",
    "ll1 = l1\n",
    "l1.next = ListNode(2)\n",
    "l1 = l1.next\n",
    "l1.next = ListNode(4)"
   ]
  },
  {
   "cell_type": "code",
   "execution_count": 158,
   "metadata": {
    "ExecuteTime": {
     "end_time": "2020-02-16T02:29:48.219978Z",
     "start_time": "2020-02-16T02:29:48.208944Z"
    }
   },
   "outputs": [],
   "source": [
    "l2 = ListNode(1)\n",
    "ll2 = l2\n",
    "l2.next = ListNode(3)\n",
    "l2 = l2.next\n",
    "l2.next = ListNode(4)"
   ]
  },
  {
   "cell_type": "markdown",
   "metadata": {},
   "source": [
    "# From Discussion"
   ]
  },
  {
   "cell_type": "code",
   "execution_count": null,
   "metadata": {
    "ExecuteTime": {
     "start_time": "2020-02-16T02:41:01.767Z"
    }
   },
   "outputs": [],
   "source": [
    "class Solution:\n",
    "    def mergeTwoLists(self, l1: ListNode, l2: ListNode) -> ListNode:\n",
    "        dummy = ListNode(None)\n",
    "        cur = dummy\n",
    "        cur_l1, cur_l2 = l1, l2\n",
    "        while cur_l1 and cur_l2:\n",
    "            if cur_l1.val <= cur_l2.val:\n",
    "                cur.next = cur_l1\n",
    "                cur_l1 = cur_l1.next\n",
    "            else:\n",
    "                cur.next = cur_l2\n",
    "                cur_l2 = cur_l2.next\n",
    "            cur = cur.next\n",
    "        if cur_l1:\n",
    "            cur.next = cur_l1\n",
    "        else:\n",
    "            cur.next = cur_l2\n",
    "        return dummy.next"
   ]
  },
  {
   "cell_type": "code",
   "execution_count": null,
   "metadata": {},
   "outputs": [],
   "source": []
  }
 ],
 "metadata": {
  "kernelspec": {
   "display_name": "Python 3",
   "language": "python",
   "name": "python3"
  },
  "language_info": {
   "codemirror_mode": {
    "name": "ipython",
    "version": 3
   },
   "file_extension": ".py",
   "mimetype": "text/x-python",
   "name": "python",
   "nbconvert_exporter": "python",
   "pygments_lexer": "ipython3",
   "version": "3.7.6"
  },
  "toc": {
   "base_numbering": 1,
   "nav_menu": {},
   "number_sections": true,
   "sideBar": true,
   "skip_h1_title": false,
   "title_cell": "Table of Contents",
   "title_sidebar": "Contents",
   "toc_cell": false,
   "toc_position": {},
   "toc_section_display": true,
   "toc_window_display": false
  }
 },
 "nbformat": 4,
 "nbformat_minor": 4
}
